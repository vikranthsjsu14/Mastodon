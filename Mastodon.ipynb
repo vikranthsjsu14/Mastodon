{
  "nbformat": 4,
  "nbformat_minor": 0,
  "metadata": {
    "colab": {
      "provenance": []
    },
    "kernelspec": {
      "name": "python3",
      "display_name": "Python 3"
    },
    "language_info": {
      "name": "python"
    }
  },
  "cells": [
    {
      "cell_type": "code",
      "execution_count": 2,
      "metadata": {
        "colab": {
          "base_uri": "https://localhost:8080/"
        },
        "id": "DEFfRHiWkq8S",
        "outputId": "a92c37d9-9f09-4961-c62f-1e540d9305ae"
      },
      "outputs": [
        {
          "output_type": "stream",
          "name": "stdout",
          "text": [
            "Requirement already satisfied: Mastodon.py in /usr/local/lib/python3.10/dist-packages (1.8.1)\n",
            "Requirement already satisfied: requests>=2.4.2 in /usr/local/lib/python3.10/dist-packages (from Mastodon.py) (2.32.3)\n",
            "Requirement already satisfied: python-dateutil in /usr/local/lib/python3.10/dist-packages (from Mastodon.py) (2.8.2)\n",
            "Requirement already satisfied: six in /usr/local/lib/python3.10/dist-packages (from Mastodon.py) (1.16.0)\n",
            "Requirement already satisfied: decorator>=4.0.0 in /usr/local/lib/python3.10/dist-packages (from Mastodon.py) (4.4.2)\n",
            "Requirement already satisfied: blurhash>=1.1.4 in /usr/local/lib/python3.10/dist-packages (from Mastodon.py) (1.1.4)\n",
            "Requirement already satisfied: python-magic in /usr/local/lib/python3.10/dist-packages (from Mastodon.py) (0.4.27)\n",
            "Requirement already satisfied: charset-normalizer<4,>=2 in /usr/local/lib/python3.10/dist-packages (from requests>=2.4.2->Mastodon.py) (3.3.2)\n",
            "Requirement already satisfied: idna<4,>=2.5 in /usr/local/lib/python3.10/dist-packages (from requests>=2.4.2->Mastodon.py) (3.10)\n",
            "Requirement already satisfied: urllib3<3,>=1.21.1 in /usr/local/lib/python3.10/dist-packages (from requests>=2.4.2->Mastodon.py) (2.2.3)\n",
            "Requirement already satisfied: certifi>=2017.4.17 in /usr/local/lib/python3.10/dist-packages (from requests>=2.4.2->Mastodon.py) (2024.8.30)\n"
          ]
        }
      ],
      "source": [
        "!pip install Mastodon.py\n"
      ]
    },
    {
      "cell_type": "code",
      "source": [
        "from mastodon import Mastodon\n",
        "\n",
        "# Define Mastodon credentials\n",
        "API_BASE_URL = 'https://mastodon.social'  # Replace with your instance URL\n",
        "ACCESS_TOKEN = '_Uo2VADSNqNS_OXnbj3t_KN5Lml-kIGOPD264G7nUmY'        # Your access token from the developer page\n",
        "\n",
        "# Initialize Mastodon API client\n",
        "mastodon = Mastodon(\n",
        "    access_token=ACCESS_TOKEN,\n",
        "    api_base_url=API_BASE_URL\n",
        ")\n",
        "\n",
        "# Function to create a post\n",
        "def create_post(content):\n",
        "    try:\n",
        "        post = mastodon.status_post(content)\n",
        "        print(f\"Post created with ID: {post['id']}\")\n",
        "        return post\n",
        "    except Exception as e:\n",
        "        print(f\"Error creating post: {e}\")\n",
        "\n",
        "# Function to retrieve a post by ID\n",
        "def retrieve_post(post_id):\n",
        "    try:\n",
        "        post = mastodon.status(post_id)\n",
        "        print(f\"Post retrieved: {post['content']}\")\n",
        "        return post\n",
        "    except Exception as e:\n",
        "        print(f\"Error retrieving post: {e}\")\n",
        "\n",
        "# Function to delete a post by ID\n",
        "#def delete_post(post_id):\n",
        " #   try:\n",
        "  #      mastodon.status_delete(post_id)\n",
        "   #     print(f\"Post with ID {post_id} deleted\")\n",
        "   # except Exception as e:\n",
        "    #    print(f\"Error deleting post: {e}\")\n",
        "\n",
        "# Example usage\n",
        "if __name__ == \"__main__\":\n",
        "    # 1. Create a post\n",
        "    new_post = create_post(\"Hello from Colab! This is a test post.\")\n",
        "\n",
        "    # 2. Retrieve the post\n",
        "    if new_post:\n",
        "        retrieved_post = retrieve_post(new_post['id'])\n",
        "\n",
        "    # 3. Delete the post\n",
        "   # if new_post:\n",
        "     #   delete_post(new_post['id'])\n"
      ],
      "metadata": {
        "colab": {
          "base_uri": "https://localhost:8080/"
        },
        "id": "z9OhDqrGm-WT",
        "outputId": "42b53558-904c-4fde-e98d-b25dddeb1d55"
      },
      "execution_count": 11,
      "outputs": [
        {
          "output_type": "stream",
          "name": "stdout",
          "text": [
            "Post created with ID: 113211895986865439\n",
            "Post retrieved: <p>Hello from Colab! This is a test post.</p>\n"
          ]
        }
      ]
    }
  ]
}